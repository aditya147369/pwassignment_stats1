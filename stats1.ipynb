{
 "cells": [
  {
   "cell_type": "markdown",
   "id": "9c899e17-21ec-4975-9c8c-c20ee11c3644",
   "metadata": {},
   "source": [
    "Q1. What is Statistics?"
   ]
  },
  {
   "cell_type": "markdown",
   "id": "ceec0110-39ee-4140-91e6-12ef2d53d3b5",
   "metadata": {},
   "source": [
    "Ans. Statistics is a field of science where we collect, organize, and analyze data. Here, data refers to information about something, and by analyzing this information, we gain insights and make informed decisions. For example, if we have the weights of 5 people, we can use statistical techniques to obtain meaningful insights, such as the average weight (mean), maximum and minimum weights, from the raw data.\n",
    "\n",
    "For a dataset x = [45, 67, 65, 77, 91], to calculate the mean weight, we add all the data points in x and divide by the size of x (which is 5). The mean weight is 69. Similarly, there are other techniques like median, mode, etc."
   ]
  },
  {
   "cell_type": "markdown",
   "id": "ac83a1b0-a249-468d-b3c6-1d287453a8e4",
   "metadata": {},
   "source": [
    "Q2. Define the different types of statistics and give an example of when each type might be used."
   ]
  },
  {
   "cell_type": "markdown",
   "id": "d2235ca6-c61e-4647-b009-650088f652f5",
   "metadata": {},
   "source": [
    "Ans. There are 2 types of statistics: \n",
    "\n",
    "1.Descriptive Statistics - In this, we organize and analyze the population data and obtain meaningful insights in a descriptive manner, like a summary of data to make decisions. In this type of analysis, we make use of measures of central tendency (mean, median, mode), measurement of dispersion, covariance, and correlation. For example, descriptive statistics can be used to find the mean (average) of people's weight, height, etc., or find the middle weight or weight with maximum frequency in the dataset. We can see how much data is spread or how much the data varies around the mean using measures of dispersion. We can analyze the relationship between x and y variables using covariance and correlation.\n",
    "\n",
    "2.Inferential Statistics - In this, we organize and analyze sample data, which is a subset of population data, and make conclusions about the population data. For example, suppose 55 people out of 100 are tested with a vaccine, and the cure efficiency is 90%. Here we have tested the vaccine on a sample of the population dataset, and we have concluded that we have gathered evidence that the vaccine will maybe have 90% cure efficiency for all the remaining people."
   ]
  },
  {
   "cell_type": "markdown",
   "id": "65bf63a4-6d3c-4816-a78c-d587ce5bee6a",
   "metadata": {},
   "source": [
    "Q3. What are the different types of data and how do they differ from each other? Provide an example of\n",
    "each type of data."
   ]
  },
  {
   "cell_type": "markdown",
   "id": "db89b3c2-acf8-4e74-a137-aae0ff1b6d27",
   "metadata": {},
   "source": [
    "Ans. \n",
    "There are 2 main types of data \n",
    "\n",
    "Quantitative (Numerical Data): This type of data is used to analyze numerical values. Examples include the price of a product, phone number, age, weight, and height. Quantitative data further falls into two categories:\n",
    "\n",
    "a. Continuous: In the continuous category, numeric values can take on any value, including decimal point values. For example, the height of a person can be measured as 160 cm, or the weight of a person can be 65.88 kg.\n",
    "\n",
    "b. Discrete: In the discrete category, numeric values can only be integer values without decimal points. Examples include a person's age or the price of a product.\n",
    "\n",
    "\n",
    "Qualitative (Categorical Data): This type of data is used to analyze string or categorical values, such as names, genders, and addresses. Qualitative data is further categorized into two types:\n",
    "\n",
    "a. Nominal: In nominal data, there is no inherent rank or order to arrange the data. Examples include gender and addresses, where have no ranking or order.\n",
    "\n",
    "b. Ordinal: In ordinal data, there is a rank or order to arrange the data. Examples include customer reviews like \"best,\" \"better,\" \"good,\" or student grades such as A+, A, B+, which have ranking or order."
   ]
  },
  {
   "cell_type": "markdown",
   "id": "2bb8f964-e7af-4e29-9e43-71fbcd82a34f",
   "metadata": {},
   "source": [
    "Q4. Categorise the following datasets with respect to quantitative and qualitative data types:\n",
    "\n",
    "(i) Grading in exam: A+, A, B+, B, C+, C, D, E\n",
    "\n",
    "(ii) Colour of mangoes: yellow, green, orange, red\n",
    "\n",
    "(iii) Height data of a class: [178.9, 179, 179.5, 176, 177.2, 178.3, 175.8,...]\n",
    "\n",
    "(iv) Number of mangoes exported by a farm: [500, 600, 478, 672, ...]"
   ]
  },
  {
   "cell_type": "markdown",
   "id": "32a00a71-3338-424f-8900-79bd57e13ec9",
   "metadata": {},
   "source": [
    "Ans. 1.Ordinal\n",
    "2.Nominal\n",
    "3.Continuous\n",
    "4.Discrete"
   ]
  },
  {
   "cell_type": "markdown",
   "id": "a66b236d-a2cc-4c6e-9025-c5656ec78b5b",
   "metadata": {},
   "source": [
    "Q5. Explain the concept of levels of measurement and give an example of a variable for each level."
   ]
  },
  {
   "cell_type": "markdown",
   "id": "9abe2855-2455-41db-971e-288381396af2",
   "metadata": {},
   "source": [
    "Ans. 1.Nominal Scale Data: This type of data consists of categorical data and specifically data that does not need to be ranked or ordered. For example, gender, address, type of fruit, color, etc.\n",
    "\n",
    "2.Ordinal Scale Data: This type of data also consists of categorical data, but here the order matters. For example, customer reviews like (best, better, good), grades of students like (A+, A, B+, B), etc., which can provide meaningful insights, and better business decisions can be made.\n",
    "\n",
    "3.Interval Scale Data: This type of data deals with numerical data in which there is no true zero as a starting point. Values can go from negative to positive, and here the order matters, and differences can be obtained. For example, temperature in degrees Celsius x = [-10, -1, 0, 15, 20], where values can go from negative to positive, and we can also obtain differences like (20 degrees Celsius - 15 degrees Celsius) = 5 degrees Celsius.\n",
    "\n",
    "4.Ratio Scale Data: This type of data also deals with numeric values, and here too, the order matters, differences of the data can be obtained, ratios can be obtained, and 0 is considered as the starting point. For example, marks of students where the starting point is 0, differences can be obtained, ratios as well, and the order matters in ascending. Another example is the measurement of IQ, etc."
   ]
  },
  {
   "cell_type": "markdown",
   "id": "3e3a5444-b126-4054-adfc-ad1e131226e1",
   "metadata": {},
   "source": [
    "Q6. Why is it important to understand the level of measurement when analyzing data? Provide an\n",
    "example to illustrate your answer."
   ]
  },
  {
   "cell_type": "markdown",
   "id": "b8bfac85-2d45-4e6b-9ec9-828b89ba88e8",
   "metadata": {},
   "source": [
    "Ans. The importance of understanding level of measurement is that it becomes easy for us to differentiate data acording to the 4 levels of measurement by doing that we can apply different mathematical operations and data analysis.\n",
    "\n",
    "For expample we have temperature of 2 different cities by using the above mentioned 4 levels of measurement we can derive some meaningfull insights.\n",
    "\n",
    "1.For Nominal data (e.g hot, warm, cold), you can only say that there's a difference in the categories, but you can't calculate the temperature difference and derive insights.\n",
    "\n",
    "2.For Ordinal data (e.g very hot, hot, warm, cool), you can say that one city is hotter or colder than the other, but you can't specify by how much.\n",
    "\n",
    "3.For Interval data (e.g measured in Celsius or Fahrenheit) you can calculate the temperature difference (e.g city A is 10 degrees celsius hotter than city B), but you can't make meaningful calculation about ratios (e.g. city A is twice as hot as city B\").\n",
    "\n",
    "4.For Ratio data (e.g measured in Kelvin(as reading starts from 0)) you can make meaningful calculations about ratios (e.g. city A is twice as hot as city B) and other arithmetic operations are also valid."
   ]
  },
  {
   "cell_type": "markdown",
   "id": "b14753d5-d788-4a39-b005-8221af974d10",
   "metadata": {},
   "source": [
    "Q7. How nominal data type is different from ordinal data type."
   ]
  },
  {
   "cell_type": "markdown",
   "id": "456f695a-41f9-4969-af28-731e93796509",
   "metadata": {},
   "source": [
    "Ans. Nominal Data Type - In nominal data string values are not categorized in any specific order or rank. For example when we consider gender (M and F) it's clear that male is not greater than female, and vice versa. Similarly when ranking colors or types of fruit there is no meaningful order nominal data does not offer insights that can be derived from ranking.\n",
    "\n",
    "Ordinal Data Type - On the other hand ordinal data is used to rank values. For example when dealing with customer reviews of a product or service ordinal data helps us rank them allowing us to obtain meaningful insights. This ranking can be valuable for making business decisions"
   ]
  },
  {
   "cell_type": "markdown",
   "id": "e99ca7fd-a329-49f0-bbb0-6e2db198e052",
   "metadata": {},
   "source": [
    "Q8. Which type of plot can be used to display data in terms of range?"
   ]
  },
  {
   "cell_type": "markdown",
   "id": "3469e0af-46e4-4382-810d-6d6df3b309f6",
   "metadata": {},
   "source": [
    "Ans. Range plots are those plots in which we can visualize data in terms of frequency in a specific range. They are useful for showing the distribution of data for maximum and minimum data points. A commonly used range plot is called a box plot, which shows the range or percentile of data distribution. The dataset is divided into 3 parts: Q1 (25th percentile of data), Q2 (50th percentile of data, which is also the median), and Q3 (75th percentile of data) and it also helps to find the outliers in dataset."
   ]
  },
  {
   "cell_type": "markdown",
   "id": "3ce034f0-6bcf-4493-8e03-eaaa14e6f98e",
   "metadata": {},
   "source": [
    "Q9. Describe the difference between descriptive and inferential statistics. Give an example of each\n",
    "type of statistics and explain how they are used."
   ]
  },
  {
   "cell_type": "markdown",
   "id": "3ae609c6-ec3f-4b8e-a160-892a23b8b6d1",
   "metadata": {},
   "source": [
    "Ans. The main difference between descriptive and inferential statistics is that in descriptive stats, we organize and analyze data from the population dataset. Here, we use different techniques like measurement of central tendency (mean, median, and mode), measurement of dispersion (to understand the spread of data and how data points vary from the mean, using variance and standard deviation), and tools like histograms to analyze the distribution of data values in terms of the frequency of each data point\n",
    "\n",
    "Examples where descriptive stats are used include analyzing student heights in school. We can calculate mean height, median height, and mode (maximum height frequency in the dataset). We can also use standard deviation to understand how students' heights vary around the mean. Similarly, these techniques can be applied to analyze students' weights in school, the performance of stock indices like the Sensex in India, and more\n",
    "\n",
    "Inferential statistics, on the other hand, analyze a subset of the population data to draw conclusions about the entire population dataset \n",
    "\n",
    "For example, during elections, different media houses conduct exit polls. They collect sample data, such as people's votes from a city or state, and use various inferential statistical hypothesis methods to make conclusions about which party has a higher chance of winning"
   ]
  },
  {
   "cell_type": "markdown",
   "id": "9f504aab-7d0b-4e2c-a799-d5f687050a39",
   "metadata": {},
   "source": [
    "Q10. What are some common measures of central tendency and variability used in statistics? Explain\n",
    "how each measure can be used to describe a dataset."
   ]
  },
  {
   "cell_type": "markdown",
   "id": "1fd114e7-c4a1-4af6-9837-fa9f5c1290bc",
   "metadata": {},
   "source": [
    "Ans. Common measure of central tendency are:\n",
    "\n",
    "a. mean(avg) \n",
    "\n",
    "let x be the 5 subject marks of a student\n",
    "\n",
    "x = [45,55,67,88,23,55]\n",
    "\n",
    "mean = summing of all data points of x / len(x) result = 55.5\n",
    "\n",
    "b. median\n",
    "1. sort the dataset in asccending order x= [23,45,55,55,67,88]\n",
    "2. determine size of x\n",
    "3. if the size is even pick the middle 2 values and obtain its mean result = 55\n",
    "4. if size is odd then the median is the middle element\n",
    "\n",
    "c. mode\n",
    "\n",
    "It is the value with the maximum frequency which is 55 in the above data set\n",
    "\n",
    "Measure of variability:\n",
    "\n",
    "1. Variance: Variance is used to measure the spread of data with respect to the mean there are two types of variance - \n",
    "\n",
    "a. Population Variance: When we have the entire dataset, we use population variance. In population variance, we measure the spread of data and how data points vary from the mean of the dataset. This is done by subtracting each data point from the population mean, squaring the result, summing these squared differences, and dividing the result by the size of the dataset (N)\n",
    "\n",
    "b. Sample Variance: When we have sample data, we use sample variance. To calculate this, we subtract each data point from the sample mean, square the result, sum these squared differences, and divide the result by the size of the dataset minus one (n-1). This n-1 is known as Bessel's correction, used as an unbiased estimator for accurate variance.\n",
    "\n",
    "2. Standard Deviation: The standard deviation is a measure of how much individual data points typically deviate from the mean. To calculate it, we take the square root of the population variance (for population standard deviation) or the square root of the sample variance (for sample standard deviation). It helps us understand the spread of data based on the range of standard deviations.\n",
    "\n",
    "\n",
    "\n",
    "\n",
    "\n"
   ]
  },
  {
   "cell_type": "code",
   "execution_count": null,
   "id": "e601de0d-32ab-4cfe-85ff-58d0094bcd6b",
   "metadata": {},
   "outputs": [],
   "source": []
  }
 ],
 "metadata": {
  "kernelspec": {
   "display_name": "Python 3 (ipykernel)",
   "language": "python",
   "name": "python3"
  },
  "language_info": {
   "codemirror_mode": {
    "name": "ipython",
    "version": 3
   },
   "file_extension": ".py",
   "mimetype": "text/x-python",
   "name": "python",
   "nbconvert_exporter": "python",
   "pygments_lexer": "ipython3",
   "version": "3.10.8"
  }
 },
 "nbformat": 4,
 "nbformat_minor": 5
}
